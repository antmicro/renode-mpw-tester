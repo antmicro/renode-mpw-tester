{
  "nbformat": 4,
  "nbformat_minor": 0,
  "metadata": {
    "colab": {
      "provenance": []
    },
    "kernelspec": {
      "name": "python3",
      "display_name": "Python 3"
    },
    "language_info": {
      "name": "python"
    }
  },
  "cells": [
    {
     "cell_type": "markdown",
     "id": "66fa5aa8",
     "metadata": {
      "cell_marker": "\"\"\""
     },
     "source": [
      "[![Renode](https://dl.antmicro.com/projects/renode/renode.svg)](https://renode.io)\n",
      "\n",
      "[![Run in Google Colab](https://img.shields.io/badge/-Run%20in%20Google%20colab-%23007ded?logo=google-colab&logoColor=white&style=for-the-badge)](https://colab.research.google.com/github/antmicro/renode-mpw-tester/blob/main/renode_mpw_tester.ipynb) [![View ipynb](https://img.shields.io/badge/-View%20ipynb%20source-%23007ded?logo=jupyter&logoColor=white&style=for-the-badge)](https://github.com/antmicro/renode-mpw-tester/blob/main/renode_mpw_tester.ipynb)"
     ]
    },
    {
      "cell_type": "markdown",
      "source": [
        "# Install dependencies\n"
      ],
      "metadata": {
        "id": "Gf8SJ3hB4eRC"
      }
    },
    {
      "cell_type": "code",
      "source": [
        "!pip install -q condacolab\n",
        "import condacolab\n",
        "condacolab.install()\n",
        "!conda install verilator\n",
        "!conda install psutil"
      ],
      "metadata": {
        "id": "y32FZWdlqaou"
      },
      "execution_count": null,
      "outputs": []
    },
    {
      "cell_type": "markdown",
      "source": [
        "# Install renode-run and download Renode MPW Tester"
      ],
      "metadata": {
        "id": "G6q5XTvi4qhn"
      }
    },
    {
      "cell_type": "code",
      "execution_count": null,
      "metadata": {
        "id": "DRYSqDaNl11s"
      },
      "outputs": [],
      "source": [
        "! pip3 install git+https://github.com/antmicro/renode-run\n",
        "! git clone https://github.com/antmicro/renode-mpw-tester"
      ]
    },
    {
      "cell_type": "markdown",
      "source": [
        "# Prepare all MPW dependencies"
      ],
      "metadata": {
        "id": "t5okZMEV42KQ"
      }
    },
    {
      "cell_type": "code",
      "source": [
        "%cd renode-mpw-tester\n",
        "! ./prepare.sh"
      ],
      "metadata": {
        "id": "HHJykrK3m-Nk"
      },
      "execution_count": null,
      "outputs": []
    },
    {
      "cell_type": "markdown",
      "source": [
        "# Build the verilated design, Renode configuration and test software"
      ],
      "metadata": {
        "id": "p6smDRie49Tw"
      }
    },
    {
      "cell_type": "code",
      "source": [
        "! ./build.sh"
      ],
      "metadata": {
        "id": "ekdhboDNnnlI"
      },
      "execution_count": null,
      "outputs": []
    },
    {
      "cell_type": "markdown",
      "source": [
        "# Run the test"
      ],
      "metadata": {
        "id": "Olo8gFJr5GUk"
      }
    },
    {
      "cell_type": "code",
      "source": [
        "%cd artifacts\n",
        "!renode-run test design.robot"
      ],
      "metadata": {
        "id": "6I78BVoDxwB_"
      },
      "execution_count": null,
      "outputs": []
    }
  ]
}
